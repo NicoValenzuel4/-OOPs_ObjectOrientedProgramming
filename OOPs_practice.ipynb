{
  "nbformat": 4,
  "nbformat_minor": 0,
  "metadata": {
    "colab": {
      "provenance": []
    },
    "kernelspec": {
      "name": "python3",
      "display_name": "Python 3"
    },
    "language_info": {
      "name": "python"
    }
  },
  "cells": [
    {
      "cell_type": "markdown",
      "source": [
        "Object Oriented programming example and practice"
      ],
      "metadata": {
        "id": "Tf4tRb4vCcfe"
      }
    },
    {
      "cell_type": "code",
      "execution_count": 147,
      "metadata": {
        "id": "VoETPM1Z-vOt"
      },
      "outputs": [],
      "source": [
        "import numpy as np\n",
        "import pandas as pd\n",
        "import csv"
      ]
    },
    {
      "cell_type": "markdown",
      "source": [
        "#Clases"
      ],
      "metadata": {
        "id": "WNMBMaFM-ybg"
      }
    },
    {
      "cell_type": "code",
      "source": [
        "class Item():\n",
        "  #class atributes\n",
        "  pay_rate=0.9\n",
        "  all=[]\n",
        "  #class atributes can be defined for the class outside\n",
        "  #like item.pay_rate=0.6\n",
        "  def __init__(self,name: str,price:float,quantity: int):\n",
        "    #Run validations\n",
        "    assert price>=0, f\"Price {price} needs to be non-negative\"\n",
        "    assert quantity>=0, f\"Quantity {quantity} needs to be non-negative\"\n",
        "    #assign self objects\n",
        "    self.name=name\n",
        "    self.quantity=quantity\n",
        "    self.price=price\n",
        "    #Save the instances that has been created.\n",
        "    Item.all.append(self)\n",
        "    print(f\"{self.name} fue creado\")\n",
        "  def total_value(self):\n",
        "    return self.price*self.quantity\n",
        "  def apply_discount(self):\n",
        "    self.price=self.price*self.pay_rate\n",
        "\n",
        "  #__repr__ representing self objects like the description.\n",
        "  #In the item.all\n",
        "  def __repr__(self):\n",
        "    return f\"Item('{self.name}',{self.price},{self.quantity})\"\n",
        "\n",
        "\n",
        "# Item(\"Obj1\",10,20)\n",
        "Item0=Item(\"Obj1\",100,3)\n",
        "Item1=Item(\"Phone android\",180,3)\n",
        "Item2=Item(\"Phone Iphone\",240,2)\n",
        "Item3=Item(\"Laptop\",100,5)\n",
        "Item4=Item(\"Sanwich\",10,3)"
      ],
      "metadata": {
        "colab": {
          "base_uri": "https://localhost:8080/"
        },
        "id": "2E7djEFw-y7z",
        "outputId": "d9ba1011-ff05-4eef-d6dc-02ba89f6479d"
      },
      "execution_count": 148,
      "outputs": [
        {
          "output_type": "stream",
          "name": "stdout",
          "text": [
            "Obj1 fue creado\n",
            "Phone android fue creado\n",
            "Phone Iphone fue creado\n",
            "Laptop fue creado\n",
            "Sanwich fue creado\n"
          ]
        }
      ]
    },
    {
      "cell_type": "code",
      "source": [
        "Item.all"
      ],
      "metadata": {
        "colab": {
          "base_uri": "https://localhost:8080/"
        },
        "id": "Q3dc8AAYeS-x",
        "outputId": "2c58718e-b4dd-4a4a-83d3-8773c3f230bd"
      },
      "execution_count": 149,
      "outputs": [
        {
          "output_type": "execute_result",
          "data": {
            "text/plain": [
              "[Item('Obj1',100,3),\n",
              " Item('Phone android',180,3),\n",
              " Item('Phone Iphone',240,2),\n",
              " Item('Laptop',100,5),\n",
              " Item('Sanwich',10,3)]"
            ]
          },
          "metadata": {},
          "execution_count": 149
        }
      ]
    },
    {
      "cell_type": "code",
      "source": [
        "Item0.total_value()\n",
        "Item0.apply_discount()\n",
        "Item0.total_value()"
      ],
      "metadata": {
        "colab": {
          "base_uri": "https://localhost:8080/"
        },
        "id": "iIxA25DnbpEO",
        "outputId": "c9d5e379-8608-434b-99fd-12382d73e7c8"
      },
      "execution_count": 150,
      "outputs": [
        {
          "output_type": "execute_result",
          "data": {
            "text/plain": [
              "270.0"
            ]
          },
          "metadata": {},
          "execution_count": 150
        }
      ]
    },
    {
      "cell_type": "code",
      "source": [
        "for instance in Item.all:\n",
        "  print(f\"Nombre: {instance.name}\")"
      ],
      "metadata": {
        "colab": {
          "base_uri": "https://localhost:8080/"
        },
        "id": "gCa7EJ2RdD-O",
        "outputId": "119e37b8-3b1f-4ad1-8abd-8eb5428462d2"
      },
      "execution_count": 151,
      "outputs": [
        {
          "output_type": "stream",
          "name": "stdout",
          "text": [
            "Nombre: Obj1\n",
            "Nombre: Phone android\n",
            "Nombre: Phone Iphone\n",
            "Nombre: Laptop\n",
            "Nombre: Sanwich\n"
          ]
        }
      ]
    },
    {
      "cell_type": "markdown",
      "source": [
        "#Class vs static methods"
      ],
      "metadata": {
        "id": "-6lUScOefGbW"
      }
    },
    {
      "cell_type": "markdown",
      "source": [
        "diferencia principal entre ambos: https://es.stackoverflow.com/questions/79446/cu%C3%A1l-es-la-diferencia-entre-staticmethod-y-classmethod-en-python#:~:text=Con%20los%20m%C3%A9todos%20de%20clase,argumento%20en%20lugar%20del%20self.&text=Los%20staticmethods%20son%20usados%20para,entre%20clases%20de%20la%20clase."
      ],
      "metadata": {
        "id": "4v1w0yAqshW8"
      }
    },
    {
      "cell_type": "code",
      "source": [
        "class Item():\n",
        "  #class atributes\n",
        "  pay_rate=0.9\n",
        "  all=[]\n",
        "  #class atributes can be defined for the class outside\n",
        "  #like item.pay_rate=0.6\n",
        "  def __init__(self,name: str,price:float,quantity: int):\n",
        "    #Run validations\n",
        "    assert price>=0, f\"Price {price} needs to be non-negative\"\n",
        "    assert quantity>=0, f\"Quantity {quantity} needs to be non-negative\"\n",
        "    #assign self objects\n",
        "    self.name=name\n",
        "    self.quantity=quantity\n",
        "    self.price=price\n",
        "    #Save the instances that has been created.\n",
        "    Item.all.append(self)\n",
        "    print(f\"{self.name} fue creado\")\n",
        "  def total_value(self):\n",
        "    return self.price*self.quantity\n",
        "  def apply_discount(self):\n",
        "    self.price=self.price*self.pay_rate\n",
        "\n",
        "  #__repr__ representing self objects like the description.\n",
        "  #In the item.all\n",
        "  def __repr__(self):\n",
        "    return f\"Item('{self.name}',{self.price},{self.quantity})\"\n",
        "  #You can get the instances from a csv file.\n",
        "  #the @classmethod decorator will make Python pass the class of the instance it's called on as the first argument\n",
        "  @classmethod\n",
        "  def instantiate_from_csv(cls):\n",
        "    with open(\"item.csv\",\"r\") as f:\n",
        "      reader=csv.DictReader(f)\n",
        "      items=list(reader)\n",
        "      for i in items:\n",
        "        Item(\n",
        "            name=i.get(\"name\"),\n",
        "            price=float(i.get(\"price\")),\n",
        "            quantity=int(i.get(\"quantity\"))\n",
        "            )\n",
        "\n",
        "\n",
        "  #The staticmethod never get the object as the first component.\n",
        "  # the @staticmethod can be used to define a factory method that\n",
        "  # returns class instances. It is unable to return a class object.\n",
        "  #The isinstance() function checks if the object (first argument)\n",
        "  #is an instance or subclass of classinfo class (second argument).\n",
        "  @staticmethod\n",
        "  def is_integer(num):\n",
        "    if isinstance(num,float):\n",
        "      return num.is_integer()\n",
        "    elif isinstance(num,int):\n",
        "      return True\n",
        "    else:\n",
        "      return False\n",
        "\n",
        "# Item.is_integer()\n",
        "# Item(\"Obj1\",10,20)\n",
        "Item0=Item(\"Obj1\",100,3)\n",
        "Item1=Item(\"Phone android\",180,3)\n",
        "Item2=Item(\"Phone Iphone\",240,2)\n",
        "Item3=Item(\"Laptop\",100,5)\n",
        "Item4=Item(\"Sanwich\",10,3)"
      ],
      "metadata": {
        "colab": {
          "base_uri": "https://localhost:8080/"
        },
        "id": "ZvB2BNPZfIoU",
        "outputId": "177b8bd8-14fe-4e70-96e5-a25e672c3e23"
      },
      "execution_count": 152,
      "outputs": [
        {
          "output_type": "stream",
          "name": "stdout",
          "text": [
            "Obj1 fue creado\n",
            "Phone android fue creado\n",
            "Phone Iphone fue creado\n",
            "Laptop fue creado\n",
            "Sanwich fue creado\n"
          ]
        }
      ]
    },
    {
      "cell_type": "code",
      "source": [
        "print(Item.all)"
      ],
      "metadata": {
        "colab": {
          "base_uri": "https://localhost:8080/"
        },
        "id": "4rlSe6E8V1_J",
        "outputId": "ffa3e906-c6b8-4699-c3e5-4f1979690ed9"
      },
      "execution_count": 153,
      "outputs": [
        {
          "output_type": "stream",
          "name": "stdout",
          "text": [
            "[Item('Obj1',100,3), Item('Phone android',180,3), Item('Phone Iphone',240,2), Item('Laptop',100,5), Item('Sanwich',10,3)]\n"
          ]
        }
      ]
    },
    {
      "cell_type": "code",
      "source": [
        "# pandas=pd.read_csv(\"item.csv\",sep=\",\")\n",
        "# pandas"
      ],
      "metadata": {
        "id": "WISTc8tNfMOC"
      },
      "execution_count": 154,
      "outputs": []
    },
    {
      "cell_type": "markdown",
      "source": [
        "#Inheritance"
      ],
      "metadata": {
        "id": "M7ViOSvvW6at"
      }
    },
    {
      "cell_type": "code",
      "source": [
        "class Item():\n",
        "  #class atributes\n",
        "  pay_rate=0.9\n",
        "  all=[]\n",
        "  #class atributes can be defined for the class outside\n",
        "  #like item.pay_rate=0.6\n",
        "  def __init__(self,name: str,price:float,quantity: int):\n",
        "    #Run validations\n",
        "    assert price>=0, f\"Price {price} needs to be non-negative\"\n",
        "    assert quantity>=0, f\"Quantity {quantity} needs to be non-negative\"\n",
        "    #assign self objects\n",
        "    self.name=name\n",
        "    self.quantity=quantity\n",
        "    self.price=price\n",
        "    #Save the instances that has been created.\n",
        "    Item.all.append(self)\n",
        "    print(f\"{self.name} fue creado\")\n",
        "  def total_value(self):\n",
        "    return self.price*self.quantity\n",
        "  def apply_discount(self):\n",
        "    self.price=self.price*self.pay_rate\n",
        "\n",
        "  #__repr__ representing self objects like the description.\n",
        "  #In the item.all\n",
        "  def __repr__(self):\n",
        "    # return f\"Item('{self.name}',{self.price},{self.quantity})\"\n",
        "    return f\"{self.__class__.__name__}('{self.name}',{self.price},{self.quantity})\"\n",
        "  #You can get the instances from a csv file.\n",
        "  #the @classmethod decorator will make Python pass the class of the instance it's called on as the first argument\n",
        "  @classmethod\n",
        "  def instantiate_from_csv(cls):\n",
        "    with open(\"item.csv\",\"r\") as f:\n",
        "      reader=csv.DictReader(f)\n",
        "      items=list(reader)\n",
        "      for i in items:\n",
        "        Item(\n",
        "            name=i.get(\"name\"),\n",
        "            price=float(i.get(\"price\")),\n",
        "            quantity=int(i.get(\"quantity\"))\n",
        "            )\n",
        "\n",
        "\n",
        "  #The staticmethod never get the object as the first component.\n",
        "  # the @staticmethod can be used to define a factory method that\n",
        "  # returns class instances. It is unable to return a class object.\n",
        "  #The isinstance() function checks if the object (first argument)\n",
        "  #is an instance or subclass of classinfo class (second argument).\n",
        "  @staticmethod\n",
        "  def is_integer(num):\n",
        "    if isinstance(num,float):\n",
        "      return num.is_integer()\n",
        "    elif isinstance(num,int):\n",
        "      return True\n",
        "    else:\n",
        "      return False\n",
        "\n",
        "# Item.is_integer()\n",
        "# Item(\"Obj1\",10,20)\n",
        "\n",
        "\n",
        "#New class phone inheritance from item\n",
        "#item is the parent class and phone one child class\n",
        "class Phones(Item):\n",
        "  class_all=[]\n",
        "  #call super function to have acces to all atributes and methods.\n",
        "  def __init__(self,name: str,price:float,quantity: int, broken_ph:int):\n",
        "    super().__init__(\n",
        "        name, price, quantity\n",
        "    )\n",
        "    #run validations\n",
        "    assert broken_ph>=0, f\"broken_ph {broken_ph} needs to be non-negative\"\n",
        "\n",
        "    #Objects\n",
        "    self.broken_ph=broken_ph\n",
        "\n",
        "    #Save the phones instances only\n",
        "    self.class_all.append(self)\n",
        "\n",
        "Item0=Item(\"Obj1\",100,3)\n",
        "Item1=Item(\"Phone android\",180,3)\n",
        "Item2=Item(\"Phone Iphone\",240,2)\n",
        "Item3=Item(\"Laptop\",100,5)\n",
        "Item4=Item(\"Sanwich\",10,3)\n",
        "Item5=Phones(\"Ph_1234\",100,5,2)\n",
        "Item5=Phones(\"Ph_5769\",90,10,1)"
      ],
      "metadata": {
        "colab": {
          "base_uri": "https://localhost:8080/"
        },
        "id": "ZQaLWWgZW6nf",
        "outputId": "4574fc02-6c2e-461d-b97d-ee4d7ff2edf4"
      },
      "execution_count": 155,
      "outputs": [
        {
          "output_type": "stream",
          "name": "stdout",
          "text": [
            "Obj1 fue creado\n",
            "Phone android fue creado\n",
            "Phone Iphone fue creado\n",
            "Laptop fue creado\n",
            "Sanwich fue creado\n",
            "Ph_1234 fue creado\n",
            "Ph_5769 fue creado\n"
          ]
        }
      ]
    },
    {
      "cell_type": "code",
      "source": [
        "print(Item.all)\n",
        "print(Phones.all)\n",
        "print(Phones.class_all)"
      ],
      "metadata": {
        "colab": {
          "base_uri": "https://localhost:8080/"
        },
        "id": "aLmkYzpng0H3",
        "outputId": "7e488804-0f46-4799-ac41-1caf3af04294"
      },
      "execution_count": 156,
      "outputs": [
        {
          "output_type": "stream",
          "name": "stdout",
          "text": [
            "[Item('Obj1',100,3), Item('Phone android',180,3), Item('Phone Iphone',240,2), Item('Laptop',100,5), Item('Sanwich',10,3), Phones('Ph_1234',100,5), Phones('Ph_5769',90,10)]\n",
            "[Item('Obj1',100,3), Item('Phone android',180,3), Item('Phone Iphone',240,2), Item('Laptop',100,5), Item('Sanwich',10,3), Phones('Ph_1234',100,5), Phones('Ph_5769',90,10)]\n",
            "[Phones('Ph_1234',100,5), Phones('Ph_5769',90,10)]\n"
          ]
        }
      ]
    },
    {
      "cell_type": "code",
      "source": [
        "Item0.broken_obj=3"
      ],
      "metadata": {
        "id": "z8Iu8xnSZKEr"
      },
      "execution_count": 157,
      "outputs": []
    },
    {
      "cell_type": "markdown",
      "source": [
        "#Getters and setters"
      ],
      "metadata": {
        "id": "-22opUWri18z"
      }
    },
    {
      "cell_type": "code",
      "source": [
        "from item import Item\n",
        "# from phones import Phones\n",
        "\n",
        "Item0=Item(\"Obj1\",100,3)\n",
        "Item1=Item(\"Phone android\",180,3)\n",
        "Item2=Item(\"Phone Iphone\",240,2)\n",
        "Item3=Item(\"Laptop\",100,5)\n",
        "Item4=Item(\"Sanwich\",10,3)"
      ],
      "metadata": {
        "colab": {
          "base_uri": "https://localhost:8080/"
        },
        "id": "RfJLkuDAi2JJ",
        "outputId": "c06f2a37-b866-4e72-ed03-2bf3d6feca8a"
      },
      "execution_count": 158,
      "outputs": [
        {
          "output_type": "stream",
          "name": "stdout",
          "text": [
            "Obj1 fue creado\n",
            "Phone android fue creado\n",
            "Phone Iphone fue creado\n",
            "Laptop fue creado\n",
            "Sanwich fue creado\n"
          ]
        }
      ]
    },
    {
      "cell_type": "code",
      "source": [
        "Item0.name_read_only"
      ],
      "metadata": {
        "colab": {
          "base_uri": "https://localhost:8080/",
          "height": 36
        },
        "id": "c7eU2m3a-pqR",
        "outputId": "b8ebf949-5fd3-4082-ea9d-288115d0a04c"
      },
      "execution_count": 159,
      "outputs": [
        {
          "output_type": "execute_result",
          "data": {
            "text/plain": [
              "'Obj1'"
            ],
            "application/vnd.google.colaboratory.intrinsic+json": {
              "type": "string"
            }
          },
          "metadata": {},
          "execution_count": 159
        }
      ]
    },
    {
      "cell_type": "code",
      "source": [
        "Item0.name_setter=\"NuevoObj1\""
      ],
      "metadata": {
        "colab": {
          "base_uri": "https://localhost:8080/"
        },
        "id": "Z4lkKU8R-taf",
        "outputId": "6cfac0af-e76c-4a03-d39c-73b2da6a6f78"
      },
      "execution_count": 160,
      "outputs": [
        {
          "output_type": "stream",
          "name": "stdout",
          "text": [
            "You set the atribute NuevoObj1\n"
          ]
        }
      ]
    },
    {
      "cell_type": "code",
      "source": [
        "Item0.name_read_only"
      ],
      "metadata": {
        "colab": {
          "base_uri": "https://localhost:8080/",
          "height": 36
        },
        "id": "qS6FNHl6-xIW",
        "outputId": "e012df06-fff0-4618-972d-840ae26ed98a"
      },
      "execution_count": 161,
      "outputs": [
        {
          "output_type": "execute_result",
          "data": {
            "text/plain": [
              "'NuevoObj1'"
            ],
            "application/vnd.google.colaboratory.intrinsic+json": {
              "type": "string"
            }
          },
          "metadata": {},
          "execution_count": 161
        }
      ]
    },
    {
      "cell_type": "code",
      "source": [
        "#You can make only read objects. wiht @property\n",
        "#in item we put the name as only read object:\n",
        "'''\n",
        "class Item():\n",
        "  #class atributes\n",
        "  pay_rate=0.9\n",
        "  all=[]\n",
        "  #class atributes can be defined for the class outside\n",
        "  #like item.pay_rate=0.6\n",
        "  def __init__(self,name: str,price:float,quantity: int):\n",
        "    #Run validations\n",
        "    assert price>=0, f\"Price {price} needs to be non-negative\"\n",
        "    assert quantity>=0, f\"Quantity {quantity} needs to be non-negative\"\n",
        "    #assign self objects\n",
        "    self._name=name\n",
        "    self.quantity=quantity\n",
        "    self.price=price\n",
        "    #Save the instances that has been created.\n",
        "    Item.all.append(self)\n",
        "    print(f\"{self.name} fue creado\")\n",
        "  #def the name as read only after it had been created\n",
        "  @property\n",
        "  def name_read_only(self):\n",
        "    return self._name\n",
        "\n",
        "We only can modify name wiht the underscore if its just one.\n",
        "But we can hide it with double underscore in the lines 15 and 24\n",
        "instead of just one underscore.\n",
        "'''"
      ],
      "metadata": {
        "id": "XCrhfLOKi-QW",
        "colab": {
          "base_uri": "https://localhost:8080/",
          "height": 127
        },
        "outputId": "b7a62458-0e4f-4055-e2d1-5e4111f6a0e7"
      },
      "execution_count": 162,
      "outputs": [
        {
          "output_type": "execute_result",
          "data": {
            "text/plain": [
              "'\\nclass Item():\\n  #class atributes\\n  pay_rate=0.9\\n  all=[]\\n  #class atributes can be defined for the class outside\\n  #like item.pay_rate=0.6\\n  def __init__(self,name: str,price:float,quantity: int):\\n    #Run validations\\n    assert price>=0, f\"Price {price} needs to be non-negative\"\\n    assert quantity>=0, f\"Quantity {quantity} needs to be non-negative\"\\n    #assign self objects\\n    self._name=name\\n    self.quantity=quantity\\n    self.price=price\\n    #Save the instances that has been created.\\n    Item.all.append(self)\\n    print(f\"{self.name} fue creado\")\\n  #def the name as read only after it had been created\\n  @property\\n  def name_read_only(self):\\n    return self._name\\n\\nWe only can modify name wiht the underscore if its just one.\\nBut we can hide it with double underscore in the lines 15 and 24\\ninstead of just one underscore.\\n'"
            ],
            "application/vnd.google.colaboratory.intrinsic+json": {
              "type": "string"
            }
          },
          "metadata": {},
          "execution_count": 162
        }
      ]
    },
    {
      "cell_type": "code",
      "source": [
        "#Now if you want to set the atrbiute that we put in just read mode\n",
        "#We can use @name.setter as example like:\n",
        "'''\n",
        "@name.setter\n",
        "def name_setter(self,value):\n",
        "  #we can put some adivce like:\n",
        "  print(f\"You set the atribute {value}\")\n",
        "  sel.__name=value\n",
        "'''\n"
      ],
      "metadata": {
        "colab": {
          "base_uri": "https://localhost:8080/",
          "height": 36
        },
        "id": "1gqRgduuPMm-",
        "outputId": "60fea260-9a9c-40cf-f742-632516f99ed5"
      },
      "execution_count": 163,
      "outputs": [
        {
          "output_type": "execute_result",
          "data": {
            "text/plain": [
              "'\\n@name.setter\\ndef name_setter(self,value):\\n  #we can put some adivce like:\\n  print(f\"You set the atribute {value}\")\\n  sel.__name=value\\n'"
            ],
            "application/vnd.google.colaboratory.intrinsic+json": {
              "type": "string"
            }
          },
          "metadata": {},
          "execution_count": 163
        }
      ]
    },
    {
      "cell_type": "code",
      "source": [
        "class Item():\n",
        "  #class atributes\n",
        "  pay_rate=0.9\n",
        "  all=[]\n",
        "  #class atributes can be defined for the class outside\n",
        "  #like item.pay_rate=0.6\n",
        "  def __init__(self,name: str,price:float,quantity: int):\n",
        "    #Run validations\n",
        "    assert price>=0, f\"Price {price} needs to be non-negative\"\n",
        "    assert quantity>=0, f\"Quantity {quantity} needs to be non-negative\"\n",
        "    #assign self objects\n",
        "    self.__name=name\n",
        "    self.quantity=quantity\n",
        "    self.price=price\n",
        "    #Save the instances that has been created.\n",
        "    Item.all.append(self)\n",
        "    print(f\"{self.__name} fue creado\")\n",
        "  @property\n",
        "  def name_read_only(self):\n",
        "    return self.__name\n",
        "  #Now if you want to set the atrbiute that we put in just read mode\n",
        "  #We can use @name.setter as example like:\n",
        "  @name_read_only.setter\n",
        "  def name_setter(self,value):\n",
        "    #we can put some adivce like:\n",
        "    print(f\"You set the atribute {value}\")\n",
        "    self.__name=value\n",
        "  def total_value(self):\n",
        "    return self.price*self.quantity\n",
        "  def apply_discount(self):\n",
        "    self.price=self.price*self.pay_rate\n",
        "\n",
        "  #__repr__ representing self objects like the description.\n",
        "  #In the item.all\n",
        "  def __repr__(self):\n",
        "    # return f\"Item('{self.name}',{self.price},{self.quantity})\"\n",
        "    return f\"{self.__class__.__name__}('{self.__name}',{self.price},{self.quantity})\"\n",
        "  #You can get the instances from a csv file.\n",
        "  #the @classmethod decorator will make Python pass the class of the instance it's called on as the first argument\n",
        "  @classmethod\n",
        "  def instantiate_from_csv(cls):\n",
        "    with open(\"item.csv\",\"r\") as f:\n",
        "      reader=csv.DictReader(f)\n",
        "      items=list(reader)\n",
        "      for i in items:\n",
        "        Item(\n",
        "            name=i.get(\"name\"),\n",
        "            price=float(i.get(\"price\")),\n",
        "            quantity=int(i.get(\"quantity\"))\n",
        "            )\n",
        "\n",
        "\n",
        "  #The staticmethod never get the object as the first component.\n",
        "  # the @staticmethod can be used to define a factory method that\n",
        "  # returns class instances. It is unable to return a class object.\n",
        "  #The isinstance() function checks if the object (first argument)\n",
        "  #is an instance or subclass of classinfo class (second argument).\n",
        "  @staticmethod\n",
        "  def is_integer(num):\n",
        "    if isinstance(num,float):\n",
        "      return num.is_integer()\n",
        "    elif isinstance(num,int):\n",
        "      return True\n",
        "    else:\n",
        "      return False\n",
        "\n",
        "\n",
        "Item0=Item(\"Obj1\",100,3)\n",
        "Item1=Item(\"Phone android\",180,3)\n",
        "Item2=Item(\"Phone Iphone\",240,2)\n",
        "Item3=Item(\"Laptop\",100,5)\n",
        "Item4=Item(\"Sanwich\",10,3)"
      ],
      "metadata": {
        "colab": {
          "base_uri": "https://localhost:8080/"
        },
        "id": "LVk2y_pKQeWZ",
        "outputId": "31db0dd5-349e-49a6-dbd2-03a497f0c6f8"
      },
      "execution_count": 164,
      "outputs": [
        {
          "output_type": "stream",
          "name": "stdout",
          "text": [
            "Obj1 fue creado\n",
            "Phone android fue creado\n",
            "Phone Iphone fue creado\n",
            "Laptop fue creado\n",
            "Sanwich fue creado\n"
          ]
        }
      ]
    },
    {
      "cell_type": "code",
      "source": [
        "Item0.name_read_only"
      ],
      "metadata": {
        "colab": {
          "base_uri": "https://localhost:8080/",
          "height": 36
        },
        "id": "mhwdoQ-YSFiH",
        "outputId": "e4cd3092-c320-4af9-8406-c5835fdf225d"
      },
      "execution_count": 165,
      "outputs": [
        {
          "output_type": "execute_result",
          "data": {
            "text/plain": [
              "'Obj1'"
            ],
            "application/vnd.google.colaboratory.intrinsic+json": {
              "type": "string"
            }
          },
          "metadata": {},
          "execution_count": 165
        }
      ]
    },
    {
      "cell_type": "code",
      "source": [
        "Item0.name_setter=\"Obj1_renovado\""
      ],
      "metadata": {
        "colab": {
          "base_uri": "https://localhost:8080/"
        },
        "id": "fa74-vOxSLU7",
        "outputId": "19869bed-de4e-4429-b5cd-5e77b2ad6f7d"
      },
      "execution_count": 166,
      "outputs": [
        {
          "output_type": "stream",
          "name": "stdout",
          "text": [
            "You set the atribute Obj1_renovado\n"
          ]
        }
      ]
    },
    {
      "cell_type": "code",
      "source": [
        "Item0.name_read_only"
      ],
      "metadata": {
        "colab": {
          "base_uri": "https://localhost:8080/",
          "height": 36
        },
        "id": "dKgtKqRgSPRA",
        "outputId": "37ad113b-4e06-4d82-cc39-9b057a7d6e7d"
      },
      "execution_count": 167,
      "outputs": [
        {
          "output_type": "execute_result",
          "data": {
            "text/plain": [
              "'Obj1_renovado'"
            ],
            "application/vnd.google.colaboratory.intrinsic+json": {
              "type": "string"
            }
          },
          "metadata": {},
          "execution_count": 167
        }
      ]
    },
    {
      "cell_type": "code",
      "source": [
        "Item.all"
      ],
      "metadata": {
        "colab": {
          "base_uri": "https://localhost:8080/"
        },
        "id": "CxCrcwMeGFHR",
        "outputId": "119f2450-0ce8-4e30-bead-788d70d66182"
      },
      "execution_count": 168,
      "outputs": [
        {
          "output_type": "execute_result",
          "data": {
            "text/plain": [
              "[Item('Obj1_renovado',100,3),\n",
              " Item('Phone android',180,3),\n",
              " Item('Phone Iphone',240,2),\n",
              " Item('Laptop',100,5),\n",
              " Item('Sanwich',10,3)]"
            ]
          },
          "metadata": {},
          "execution_count": 168
        }
      ]
    },
    {
      "cell_type": "markdown",
      "source": [
        "#OOPs Principles"
      ],
      "metadata": {
        "id": "g2Aa9W5aSi6R"
      }
    },
    {
      "cell_type": "markdown",
      "source": [
        "1. Encapsulation: mecanismo para restringir el acceso directo a algunos atributos. Ej: len caracter, valores, read only, etc...\n",
        "2. Abstraction: Mostrar solo los atributos necesarios y ocultar los que no son necesarios de cara a los usuarios. Los pasos intermedios se ocultan con __ antes del metodo: def __escondido() como ejemplo.\n",
        "3. Inheritance: Mecanismo para reutilizar codigo a traves de las clases, como ya vimos anteriormente.\n",
        "4. Polymorphism: Concepto de utilizar diferentes clases en la misma interfaz, asociado a la generalidad del proyecto. En otras palabras, que al utilizar una sola clase pueda manejar distintos tipos de objetos."
      ],
      "metadata": {
        "id": "60xhwQbuY9Ew"
      }
    },
    {
      "cell_type": "markdown",
      "source": [
        "Agradecimientos a freeCodeCamp por la orientación en OOPs.\n",
        "Referencia: https://www.youtube.com/watch?v=Ej_02ICOIgs&t=5596s"
      ],
      "metadata": {
        "id": "OIYI8Hxm-EJ7"
      }
    },
    {
      "cell_type": "markdown",
      "source": [
        "#Aplicación posible a pipelines"
      ],
      "metadata": {
        "id": "rzVELTOd_Cih"
      }
    },
    {
      "cell_type": "markdown",
      "source": [
        "Tomamos la base de datos del submit de titanic de kaggle, para reformular lo que realizamos en dicho proyecto disponile en:"
      ],
      "metadata": {
        "id": "M2ulyBM7_kuz"
      }
    },
    {
      "cell_type": "code",
      "source": [
        "from sklearn.base import BaseEstimator, TransformerMixin\n",
        "from sklearn.impute import SimpleImputer\n",
        "from sklearn.preprocessing import KBinsDiscretizer\n",
        "from sklearn.preprocessing import OneHotEncoder\n",
        "\n",
        "#Imputación de age con su mediana.\n",
        "class AgeImputer(BaseEstimator, TransformerMixin):\n",
        "  def fit(self,X,y=None):\n",
        "    return self\n",
        "  def transform(self,X):\n",
        "    imputer=SimpleImputer(strategy=\"median\")\n",
        "    X[\"Age\"]=imputer.fit_transform(X[[\"Age\"]])\n",
        "    return X\n",
        "#Imputacion Fare con su mediana (testdataset)\n",
        "class FareImputer(BaseEstimator, TransformerMixin):\n",
        "  def fit(self,X,y=None):\n",
        "    return self\n",
        "  def transform(self,X):\n",
        "    imputer=SimpleImputer(strategy=\"median\")\n",
        "    X[\"Fare\"]=imputer.fit_transform(X[[\"Fare\"]])\n",
        "    return X\n",
        "\n",
        "#Imputación embarked con el más frecuente.\n",
        "class EmbarkedImputer(BaseEstimator, TransformerMixin):\n",
        "  def fit(self,X,y=None):\n",
        "    return self\n",
        "  def transform(self,X):\n",
        "    imputer=SimpleImputer(strategy=\"most_frequent\")\n",
        "    X[\"Embarked\"]=imputer.fit_transform(X[[\"Embarked\"]])\n",
        "    return X\n",
        "#Discretización data.\n",
        "class Discretize(BaseEstimator, TransformerMixin):\n",
        "  def fit(self,X,y=None):\n",
        "    return self\n",
        "  def transform(self,X):\n",
        "    discretize=KBinsDiscretizer(n_bins=4, encode='ordinal')\n",
        "    X[[\"Age\"]]=discretize.fit_transform(X[[\"Age\"]])\n",
        "    X[[\"Fare\"]]=discretize.fit_transform(X[[\"Fare\"]])\n",
        "    X['Age'] = X['Age'].astype(int)\n",
        "    X['Fare'] = X['Fare'].astype(int)\n",
        "    # X=X.to_numpy\n",
        "    return X\n",
        "#Creamos titulo\n",
        "class Titlecolumn(BaseEstimator, TransformerMixin):\n",
        "\n",
        "  def fit(self,X,Y=None):\n",
        "    return self\n",
        "  def transform(self,X):\n",
        "    X['Title'] = X.Name.str.extract(' ([A-Za-z]+)\\.', expand=False)\n",
        "    X['Title'] = X['Title'].replace(self.busqueda_otro, 'Otro')\n",
        "    X['Title'] = X['Title'].replace('Mlle', 'Miss')\n",
        "    X['Title'] = X['Title'].replace('Ms', 'Miss')\n",
        "    X['Title'] = X['Title'].replace('Mme', 'Mrs')\n",
        "    return X\n",
        "\n",
        "#Creamos familypool\n",
        "class Familypool(BaseEstimator, TransformerMixin):\n",
        "  def fit(self,X,Y=None):\n",
        "    return self\n",
        "  def transform(self,X):\n",
        "    X['Fpool'] = X['SibSp'] + X['Parch']\n",
        "    return X\n",
        "#Creamos Alone\n",
        "class Alone(BaseEstimator, TransformerMixin):\n",
        "  def fit(self,X,Y=None):\n",
        "    return self\n",
        "  def transform(self,X):\n",
        "    X['Alone'] = 1 #initialize to yes/1 is alone\n",
        "    X['Alone'].loc[X['Fpool'] > 0] = 0\n",
        "    return X\n",
        "class FeatureDrop(BaseEstimator, TransformerMixin):\n",
        "  def fit(self,X,y=None):\n",
        "    return self\n",
        "  def transform(self,X):\n",
        "    return X.drop(self.eliminados,axis=1,errors=\"ignore\")\n",
        "\n",
        "#labelencoder\n",
        "class NumericTransform():\n",
        "  def fit(self,X,y=None):\n",
        "    return self\n",
        "  def transform(self,X):\n",
        "    X[\"Embarked\"].replace([\"Q\",\"S\",\"C\"],[0,1,2],inplace=True)\n",
        "    X[\"Sex\"].replace([\"male\",\"female\"],[0,1],inplace=True)\n",
        "    X[\"Title\"].replace([\"Master\", \"Miss\", \"Mr\", \"Mrs\", \"Otro\"],[0,1,2,3,4],inplace=True)\n",
        "    return X\n"
      ],
      "metadata": {
        "id": "KoRJkJir_E1M"
      },
      "execution_count": 169,
      "outputs": []
    },
    {
      "cell_type": "code",
      "source": [
        "#Generamos el pipeline con los estimadores establecidos anteriormente.\n",
        "Titlecolumn.busqueda_otro=['Lady', 'Countess','Capt', 'Col','Don', 'Dr', 'Major', 'Rev', 'Sir', 'Jonkheer', 'Dona']\n",
        "FeatureDrop.eliminados=[\"Name\",\"Ticket\",\"Cabin\",\"SibSp\",\"Parch\"]\n",
        "from sklearn.pipeline import Pipeline\n",
        "pipeline=Pipeline([\n",
        "    (\"ageimputer\",AgeImputer()),\n",
        "    (\"fareimputer\",FareImputer()),\n",
        "    (\"embarkedimputer\",EmbarkedImputer()),\n",
        "    (\"title\",Titlecolumn()),\n",
        "    (\"Fampool\",Familypool()),\n",
        "    (\"alone\",Alone()),\n",
        "     (\"discretize\",Discretize()),\n",
        "    (\"featuredrop\",FeatureDrop()),\n",
        "    (\"labelencoder\",NumericTransform())\n",
        "\n",
        "])"
      ],
      "metadata": {
        "id": "-5D-lVov_1uT"
      },
      "execution_count": 170,
      "outputs": []
    },
    {
      "cell_type": "code",
      "source": [
        "train=pd.read_csv(\"train.csv\")\n",
        "train"
      ],
      "metadata": {
        "colab": {
          "base_uri": "https://localhost:8080/",
          "height": 423
        },
        "id": "r86lbrYxBTBW",
        "outputId": "427cf1de-4883-4da5-cc6e-4570efe177c5"
      },
      "execution_count": 171,
      "outputs": [
        {
          "output_type": "execute_result",
          "data": {
            "text/plain": [
              "     PassengerId  Survived  Pclass  \\\n",
              "0              1         0       3   \n",
              "1              2         1       1   \n",
              "2              3         1       3   \n",
              "3              4         1       1   \n",
              "4              5         0       3   \n",
              "..           ...       ...     ...   \n",
              "886          887         0       2   \n",
              "887          888         1       1   \n",
              "888          889         0       3   \n",
              "889          890         1       1   \n",
              "890          891         0       3   \n",
              "\n",
              "                                                  Name     Sex   Age  SibSp  \\\n",
              "0                              Braund, Mr. Owen Harris    male  22.0      1   \n",
              "1    Cumings, Mrs. John Bradley (Florence Briggs Th...  female  38.0      1   \n",
              "2                               Heikkinen, Miss. Laina  female  26.0      0   \n",
              "3         Futrelle, Mrs. Jacques Heath (Lily May Peel)  female  35.0      1   \n",
              "4                             Allen, Mr. William Henry    male  35.0      0   \n",
              "..                                                 ...     ...   ...    ...   \n",
              "886                              Montvila, Rev. Juozas    male  27.0      0   \n",
              "887                       Graham, Miss. Margaret Edith  female  19.0      0   \n",
              "888           Johnston, Miss. Catherine Helen \"Carrie\"  female   NaN      1   \n",
              "889                              Behr, Mr. Karl Howell    male  26.0      0   \n",
              "890                                Dooley, Mr. Patrick    male  32.0      0   \n",
              "\n",
              "     Parch            Ticket     Fare Cabin Embarked  \n",
              "0        0         A/5 21171   7.2500   NaN        S  \n",
              "1        0          PC 17599  71.2833   C85        C  \n",
              "2        0  STON/O2. 3101282   7.9250   NaN        S  \n",
              "3        0            113803  53.1000  C123        S  \n",
              "4        0            373450   8.0500   NaN        S  \n",
              "..     ...               ...      ...   ...      ...  \n",
              "886      0            211536  13.0000   NaN        S  \n",
              "887      0            112053  30.0000   B42        S  \n",
              "888      2        W./C. 6607  23.4500   NaN        S  \n",
              "889      0            111369  30.0000  C148        C  \n",
              "890      0            370376   7.7500   NaN        Q  \n",
              "\n",
              "[891 rows x 12 columns]"
            ],
            "text/html": [
              "\n",
              "  <div id=\"df-04c26cf5-f72e-4422-a122-e3f04a6fad6c\" class=\"colab-df-container\">\n",
              "    <div>\n",
              "<style scoped>\n",
              "    .dataframe tbody tr th:only-of-type {\n",
              "        vertical-align: middle;\n",
              "    }\n",
              "\n",
              "    .dataframe tbody tr th {\n",
              "        vertical-align: top;\n",
              "    }\n",
              "\n",
              "    .dataframe thead th {\n",
              "        text-align: right;\n",
              "    }\n",
              "</style>\n",
              "<table border=\"1\" class=\"dataframe\">\n",
              "  <thead>\n",
              "    <tr style=\"text-align: right;\">\n",
              "      <th></th>\n",
              "      <th>PassengerId</th>\n",
              "      <th>Survived</th>\n",
              "      <th>Pclass</th>\n",
              "      <th>Name</th>\n",
              "      <th>Sex</th>\n",
              "      <th>Age</th>\n",
              "      <th>SibSp</th>\n",
              "      <th>Parch</th>\n",
              "      <th>Ticket</th>\n",
              "      <th>Fare</th>\n",
              "      <th>Cabin</th>\n",
              "      <th>Embarked</th>\n",
              "    </tr>\n",
              "  </thead>\n",
              "  <tbody>\n",
              "    <tr>\n",
              "      <th>0</th>\n",
              "      <td>1</td>\n",
              "      <td>0</td>\n",
              "      <td>3</td>\n",
              "      <td>Braund, Mr. Owen Harris</td>\n",
              "      <td>male</td>\n",
              "      <td>22.0</td>\n",
              "      <td>1</td>\n",
              "      <td>0</td>\n",
              "      <td>A/5 21171</td>\n",
              "      <td>7.2500</td>\n",
              "      <td>NaN</td>\n",
              "      <td>S</td>\n",
              "    </tr>\n",
              "    <tr>\n",
              "      <th>1</th>\n",
              "      <td>2</td>\n",
              "      <td>1</td>\n",
              "      <td>1</td>\n",
              "      <td>Cumings, Mrs. John Bradley (Florence Briggs Th...</td>\n",
              "      <td>female</td>\n",
              "      <td>38.0</td>\n",
              "      <td>1</td>\n",
              "      <td>0</td>\n",
              "      <td>PC 17599</td>\n",
              "      <td>71.2833</td>\n",
              "      <td>C85</td>\n",
              "      <td>C</td>\n",
              "    </tr>\n",
              "    <tr>\n",
              "      <th>2</th>\n",
              "      <td>3</td>\n",
              "      <td>1</td>\n",
              "      <td>3</td>\n",
              "      <td>Heikkinen, Miss. Laina</td>\n",
              "      <td>female</td>\n",
              "      <td>26.0</td>\n",
              "      <td>0</td>\n",
              "      <td>0</td>\n",
              "      <td>STON/O2. 3101282</td>\n",
              "      <td>7.9250</td>\n",
              "      <td>NaN</td>\n",
              "      <td>S</td>\n",
              "    </tr>\n",
              "    <tr>\n",
              "      <th>3</th>\n",
              "      <td>4</td>\n",
              "      <td>1</td>\n",
              "      <td>1</td>\n",
              "      <td>Futrelle, Mrs. Jacques Heath (Lily May Peel)</td>\n",
              "      <td>female</td>\n",
              "      <td>35.0</td>\n",
              "      <td>1</td>\n",
              "      <td>0</td>\n",
              "      <td>113803</td>\n",
              "      <td>53.1000</td>\n",
              "      <td>C123</td>\n",
              "      <td>S</td>\n",
              "    </tr>\n",
              "    <tr>\n",
              "      <th>4</th>\n",
              "      <td>5</td>\n",
              "      <td>0</td>\n",
              "      <td>3</td>\n",
              "      <td>Allen, Mr. William Henry</td>\n",
              "      <td>male</td>\n",
              "      <td>35.0</td>\n",
              "      <td>0</td>\n",
              "      <td>0</td>\n",
              "      <td>373450</td>\n",
              "      <td>8.0500</td>\n",
              "      <td>NaN</td>\n",
              "      <td>S</td>\n",
              "    </tr>\n",
              "    <tr>\n",
              "      <th>...</th>\n",
              "      <td>...</td>\n",
              "      <td>...</td>\n",
              "      <td>...</td>\n",
              "      <td>...</td>\n",
              "      <td>...</td>\n",
              "      <td>...</td>\n",
              "      <td>...</td>\n",
              "      <td>...</td>\n",
              "      <td>...</td>\n",
              "      <td>...</td>\n",
              "      <td>...</td>\n",
              "      <td>...</td>\n",
              "    </tr>\n",
              "    <tr>\n",
              "      <th>886</th>\n",
              "      <td>887</td>\n",
              "      <td>0</td>\n",
              "      <td>2</td>\n",
              "      <td>Montvila, Rev. Juozas</td>\n",
              "      <td>male</td>\n",
              "      <td>27.0</td>\n",
              "      <td>0</td>\n",
              "      <td>0</td>\n",
              "      <td>211536</td>\n",
              "      <td>13.0000</td>\n",
              "      <td>NaN</td>\n",
              "      <td>S</td>\n",
              "    </tr>\n",
              "    <tr>\n",
              "      <th>887</th>\n",
              "      <td>888</td>\n",
              "      <td>1</td>\n",
              "      <td>1</td>\n",
              "      <td>Graham, Miss. Margaret Edith</td>\n",
              "      <td>female</td>\n",
              "      <td>19.0</td>\n",
              "      <td>0</td>\n",
              "      <td>0</td>\n",
              "      <td>112053</td>\n",
              "      <td>30.0000</td>\n",
              "      <td>B42</td>\n",
              "      <td>S</td>\n",
              "    </tr>\n",
              "    <tr>\n",
              "      <th>888</th>\n",
              "      <td>889</td>\n",
              "      <td>0</td>\n",
              "      <td>3</td>\n",
              "      <td>Johnston, Miss. Catherine Helen \"Carrie\"</td>\n",
              "      <td>female</td>\n",
              "      <td>NaN</td>\n",
              "      <td>1</td>\n",
              "      <td>2</td>\n",
              "      <td>W./C. 6607</td>\n",
              "      <td>23.4500</td>\n",
              "      <td>NaN</td>\n",
              "      <td>S</td>\n",
              "    </tr>\n",
              "    <tr>\n",
              "      <th>889</th>\n",
              "      <td>890</td>\n",
              "      <td>1</td>\n",
              "      <td>1</td>\n",
              "      <td>Behr, Mr. Karl Howell</td>\n",
              "      <td>male</td>\n",
              "      <td>26.0</td>\n",
              "      <td>0</td>\n",
              "      <td>0</td>\n",
              "      <td>111369</td>\n",
              "      <td>30.0000</td>\n",
              "      <td>C148</td>\n",
              "      <td>C</td>\n",
              "    </tr>\n",
              "    <tr>\n",
              "      <th>890</th>\n",
              "      <td>891</td>\n",
              "      <td>0</td>\n",
              "      <td>3</td>\n",
              "      <td>Dooley, Mr. Patrick</td>\n",
              "      <td>male</td>\n",
              "      <td>32.0</td>\n",
              "      <td>0</td>\n",
              "      <td>0</td>\n",
              "      <td>370376</td>\n",
              "      <td>7.7500</td>\n",
              "      <td>NaN</td>\n",
              "      <td>Q</td>\n",
              "    </tr>\n",
              "  </tbody>\n",
              "</table>\n",
              "<p>891 rows × 12 columns</p>\n",
              "</div>\n",
              "    <div class=\"colab-df-buttons\">\n",
              "\n",
              "  <div class=\"colab-df-container\">\n",
              "    <button class=\"colab-df-convert\" onclick=\"convertToInteractive('df-04c26cf5-f72e-4422-a122-e3f04a6fad6c')\"\n",
              "            title=\"Convert this dataframe to an interactive table.\"\n",
              "            style=\"display:none;\">\n",
              "\n",
              "  <svg xmlns=\"http://www.w3.org/2000/svg\" height=\"24px\" viewBox=\"0 -960 960 960\">\n",
              "    <path d=\"M120-120v-720h720v720H120Zm60-500h600v-160H180v160Zm220 220h160v-160H400v160Zm0 220h160v-160H400v160ZM180-400h160v-160H180v160Zm440 0h160v-160H620v160ZM180-180h160v-160H180v160Zm440 0h160v-160H620v160Z\"/>\n",
              "  </svg>\n",
              "    </button>\n",
              "\n",
              "  <style>\n",
              "    .colab-df-container {\n",
              "      display:flex;\n",
              "      gap: 12px;\n",
              "    }\n",
              "\n",
              "    .colab-df-convert {\n",
              "      background-color: #E8F0FE;\n",
              "      border: none;\n",
              "      border-radius: 50%;\n",
              "      cursor: pointer;\n",
              "      display: none;\n",
              "      fill: #1967D2;\n",
              "      height: 32px;\n",
              "      padding: 0 0 0 0;\n",
              "      width: 32px;\n",
              "    }\n",
              "\n",
              "    .colab-df-convert:hover {\n",
              "      background-color: #E2EBFA;\n",
              "      box-shadow: 0px 1px 2px rgba(60, 64, 67, 0.3), 0px 1px 3px 1px rgba(60, 64, 67, 0.15);\n",
              "      fill: #174EA6;\n",
              "    }\n",
              "\n",
              "    .colab-df-buttons div {\n",
              "      margin-bottom: 4px;\n",
              "    }\n",
              "\n",
              "    [theme=dark] .colab-df-convert {\n",
              "      background-color: #3B4455;\n",
              "      fill: #D2E3FC;\n",
              "    }\n",
              "\n",
              "    [theme=dark] .colab-df-convert:hover {\n",
              "      background-color: #434B5C;\n",
              "      box-shadow: 0px 1px 3px 1px rgba(0, 0, 0, 0.15);\n",
              "      filter: drop-shadow(0px 1px 2px rgba(0, 0, 0, 0.3));\n",
              "      fill: #FFFFFF;\n",
              "    }\n",
              "  </style>\n",
              "\n",
              "    <script>\n",
              "      const buttonEl =\n",
              "        document.querySelector('#df-04c26cf5-f72e-4422-a122-e3f04a6fad6c button.colab-df-convert');\n",
              "      buttonEl.style.display =\n",
              "        google.colab.kernel.accessAllowed ? 'block' : 'none';\n",
              "\n",
              "      async function convertToInteractive(key) {\n",
              "        const element = document.querySelector('#df-04c26cf5-f72e-4422-a122-e3f04a6fad6c');\n",
              "        const dataTable =\n",
              "          await google.colab.kernel.invokeFunction('convertToInteractive',\n",
              "                                                    [key], {});\n",
              "        if (!dataTable) return;\n",
              "\n",
              "        const docLinkHtml = 'Like what you see? Visit the ' +\n",
              "          '<a target=\"_blank\" href=https://colab.research.google.com/notebooks/data_table.ipynb>data table notebook</a>'\n",
              "          + ' to learn more about interactive tables.';\n",
              "        element.innerHTML = '';\n",
              "        dataTable['output_type'] = 'display_data';\n",
              "        await google.colab.output.renderOutput(dataTable, element);\n",
              "        const docLink = document.createElement('div');\n",
              "        docLink.innerHTML = docLinkHtml;\n",
              "        element.appendChild(docLink);\n",
              "      }\n",
              "    </script>\n",
              "  </div>\n",
              "\n",
              "\n",
              "<div id=\"df-74224377-d534-4414-a955-da1385582228\">\n",
              "  <button class=\"colab-df-quickchart\" onclick=\"quickchart('df-74224377-d534-4414-a955-da1385582228')\"\n",
              "            title=\"Suggest charts\"\n",
              "            style=\"display:none;\">\n",
              "\n",
              "<svg xmlns=\"http://www.w3.org/2000/svg\" height=\"24px\"viewBox=\"0 0 24 24\"\n",
              "     width=\"24px\">\n",
              "    <g>\n",
              "        <path d=\"M19 3H5c-1.1 0-2 .9-2 2v14c0 1.1.9 2 2 2h14c1.1 0 2-.9 2-2V5c0-1.1-.9-2-2-2zM9 17H7v-7h2v7zm4 0h-2V7h2v10zm4 0h-2v-4h2v4z\"/>\n",
              "    </g>\n",
              "</svg>\n",
              "  </button>\n",
              "\n",
              "<style>\n",
              "  .colab-df-quickchart {\n",
              "      --bg-color: #E8F0FE;\n",
              "      --fill-color: #1967D2;\n",
              "      --hover-bg-color: #E2EBFA;\n",
              "      --hover-fill-color: #174EA6;\n",
              "      --disabled-fill-color: #AAA;\n",
              "      --disabled-bg-color: #DDD;\n",
              "  }\n",
              "\n",
              "  [theme=dark] .colab-df-quickchart {\n",
              "      --bg-color: #3B4455;\n",
              "      --fill-color: #D2E3FC;\n",
              "      --hover-bg-color: #434B5C;\n",
              "      --hover-fill-color: #FFFFFF;\n",
              "      --disabled-bg-color: #3B4455;\n",
              "      --disabled-fill-color: #666;\n",
              "  }\n",
              "\n",
              "  .colab-df-quickchart {\n",
              "    background-color: var(--bg-color);\n",
              "    border: none;\n",
              "    border-radius: 50%;\n",
              "    cursor: pointer;\n",
              "    display: none;\n",
              "    fill: var(--fill-color);\n",
              "    height: 32px;\n",
              "    padding: 0;\n",
              "    width: 32px;\n",
              "  }\n",
              "\n",
              "  .colab-df-quickchart:hover {\n",
              "    background-color: var(--hover-bg-color);\n",
              "    box-shadow: 0 1px 2px rgba(60, 64, 67, 0.3), 0 1px 3px 1px rgba(60, 64, 67, 0.15);\n",
              "    fill: var(--button-hover-fill-color);\n",
              "  }\n",
              "\n",
              "  .colab-df-quickchart-complete:disabled,\n",
              "  .colab-df-quickchart-complete:disabled:hover {\n",
              "    background-color: var(--disabled-bg-color);\n",
              "    fill: var(--disabled-fill-color);\n",
              "    box-shadow: none;\n",
              "  }\n",
              "\n",
              "  .colab-df-spinner {\n",
              "    border: 2px solid var(--fill-color);\n",
              "    border-color: transparent;\n",
              "    border-bottom-color: var(--fill-color);\n",
              "    animation:\n",
              "      spin 1s steps(1) infinite;\n",
              "  }\n",
              "\n",
              "  @keyframes spin {\n",
              "    0% {\n",
              "      border-color: transparent;\n",
              "      border-bottom-color: var(--fill-color);\n",
              "      border-left-color: var(--fill-color);\n",
              "    }\n",
              "    20% {\n",
              "      border-color: transparent;\n",
              "      border-left-color: var(--fill-color);\n",
              "      border-top-color: var(--fill-color);\n",
              "    }\n",
              "    30% {\n",
              "      border-color: transparent;\n",
              "      border-left-color: var(--fill-color);\n",
              "      border-top-color: var(--fill-color);\n",
              "      border-right-color: var(--fill-color);\n",
              "    }\n",
              "    40% {\n",
              "      border-color: transparent;\n",
              "      border-right-color: var(--fill-color);\n",
              "      border-top-color: var(--fill-color);\n",
              "    }\n",
              "    60% {\n",
              "      border-color: transparent;\n",
              "      border-right-color: var(--fill-color);\n",
              "    }\n",
              "    80% {\n",
              "      border-color: transparent;\n",
              "      border-right-color: var(--fill-color);\n",
              "      border-bottom-color: var(--fill-color);\n",
              "    }\n",
              "    90% {\n",
              "      border-color: transparent;\n",
              "      border-bottom-color: var(--fill-color);\n",
              "    }\n",
              "  }\n",
              "</style>\n",
              "\n",
              "  <script>\n",
              "    async function quickchart(key) {\n",
              "      const quickchartButtonEl =\n",
              "        document.querySelector('#' + key + ' button');\n",
              "      quickchartButtonEl.disabled = true;  // To prevent multiple clicks.\n",
              "      quickchartButtonEl.classList.add('colab-df-spinner');\n",
              "      try {\n",
              "        const charts = await google.colab.kernel.invokeFunction(\n",
              "            'suggestCharts', [key], {});\n",
              "      } catch (error) {\n",
              "        console.error('Error during call to suggestCharts:', error);\n",
              "      }\n",
              "      quickchartButtonEl.classList.remove('colab-df-spinner');\n",
              "      quickchartButtonEl.classList.add('colab-df-quickchart-complete');\n",
              "    }\n",
              "    (() => {\n",
              "      let quickchartButtonEl =\n",
              "        document.querySelector('#df-74224377-d534-4414-a955-da1385582228 button');\n",
              "      quickchartButtonEl.style.display =\n",
              "        google.colab.kernel.accessAllowed ? 'block' : 'none';\n",
              "    })();\n",
              "  </script>\n",
              "</div>\n",
              "    </div>\n",
              "  </div>\n"
            ]
          },
          "metadata": {},
          "execution_count": 171
        }
      ]
    },
    {
      "cell_type": "code",
      "source": [
        "train_ejemplo=pipeline.fit_transform(train)\n",
        "train_ejemplo"
      ],
      "metadata": {
        "colab": {
          "base_uri": "https://localhost:8080/",
          "height": 515
        },
        "id": "k2CQUh0l_74s",
        "outputId": "f80c429d-37f4-4865-eb25-54a0f885e520"
      },
      "execution_count": 172,
      "outputs": [
        {
          "output_type": "stream",
          "name": "stderr",
          "text": [
            "<ipython-input-169-42be6726d3c5>:69: SettingWithCopyWarning: \n",
            "A value is trying to be set on a copy of a slice from a DataFrame\n",
            "\n",
            "See the caveats in the documentation: https://pandas.pydata.org/pandas-docs/stable/user_guide/indexing.html#returning-a-view-versus-a-copy\n",
            "  X['Alone'].loc[X['Fpool'] > 0] = 0\n"
          ]
        },
        {
          "output_type": "execute_result",
          "data": {
            "text/plain": [
              "     PassengerId  Survived  Pclass  Sex  Age  Fare  Embarked  Title  Fpool  \\\n",
              "0              1         0       3    0    1     0         1      2      1   \n",
              "1              2         1       1    1    3     3         2      3      1   \n",
              "2              3         1       3    1    1     1         1      1      0   \n",
              "3              4         1       1    1    3     3         1      3      1   \n",
              "4              5         0       3    0    3     1         1      2      0   \n",
              "..           ...       ...     ...  ...  ...   ...       ...    ...    ...   \n",
              "886          887         0       2    0    1     1         1      4      0   \n",
              "887          888         1       1    1    0     2         1      1      0   \n",
              "888          889         0       3    1    2     2         1      1      3   \n",
              "889          890         1       1    0    1     2         2      2      0   \n",
              "890          891         0       3    0    2     0         0      2      0   \n",
              "\n",
              "     Alone  \n",
              "0        0  \n",
              "1        0  \n",
              "2        1  \n",
              "3        0  \n",
              "4        1  \n",
              "..     ...  \n",
              "886      1  \n",
              "887      1  \n",
              "888      0  \n",
              "889      1  \n",
              "890      1  \n",
              "\n",
              "[891 rows x 10 columns]"
            ],
            "text/html": [
              "\n",
              "  <div id=\"df-687a736c-11a6-4920-96b2-ce0122a1399a\" class=\"colab-df-container\">\n",
              "    <div>\n",
              "<style scoped>\n",
              "    .dataframe tbody tr th:only-of-type {\n",
              "        vertical-align: middle;\n",
              "    }\n",
              "\n",
              "    .dataframe tbody tr th {\n",
              "        vertical-align: top;\n",
              "    }\n",
              "\n",
              "    .dataframe thead th {\n",
              "        text-align: right;\n",
              "    }\n",
              "</style>\n",
              "<table border=\"1\" class=\"dataframe\">\n",
              "  <thead>\n",
              "    <tr style=\"text-align: right;\">\n",
              "      <th></th>\n",
              "      <th>PassengerId</th>\n",
              "      <th>Survived</th>\n",
              "      <th>Pclass</th>\n",
              "      <th>Sex</th>\n",
              "      <th>Age</th>\n",
              "      <th>Fare</th>\n",
              "      <th>Embarked</th>\n",
              "      <th>Title</th>\n",
              "      <th>Fpool</th>\n",
              "      <th>Alone</th>\n",
              "    </tr>\n",
              "  </thead>\n",
              "  <tbody>\n",
              "    <tr>\n",
              "      <th>0</th>\n",
              "      <td>1</td>\n",
              "      <td>0</td>\n",
              "      <td>3</td>\n",
              "      <td>0</td>\n",
              "      <td>1</td>\n",
              "      <td>0</td>\n",
              "      <td>1</td>\n",
              "      <td>2</td>\n",
              "      <td>1</td>\n",
              "      <td>0</td>\n",
              "    </tr>\n",
              "    <tr>\n",
              "      <th>1</th>\n",
              "      <td>2</td>\n",
              "      <td>1</td>\n",
              "      <td>1</td>\n",
              "      <td>1</td>\n",
              "      <td>3</td>\n",
              "      <td>3</td>\n",
              "      <td>2</td>\n",
              "      <td>3</td>\n",
              "      <td>1</td>\n",
              "      <td>0</td>\n",
              "    </tr>\n",
              "    <tr>\n",
              "      <th>2</th>\n",
              "      <td>3</td>\n",
              "      <td>1</td>\n",
              "      <td>3</td>\n",
              "      <td>1</td>\n",
              "      <td>1</td>\n",
              "      <td>1</td>\n",
              "      <td>1</td>\n",
              "      <td>1</td>\n",
              "      <td>0</td>\n",
              "      <td>1</td>\n",
              "    </tr>\n",
              "    <tr>\n",
              "      <th>3</th>\n",
              "      <td>4</td>\n",
              "      <td>1</td>\n",
              "      <td>1</td>\n",
              "      <td>1</td>\n",
              "      <td>3</td>\n",
              "      <td>3</td>\n",
              "      <td>1</td>\n",
              "      <td>3</td>\n",
              "      <td>1</td>\n",
              "      <td>0</td>\n",
              "    </tr>\n",
              "    <tr>\n",
              "      <th>4</th>\n",
              "      <td>5</td>\n",
              "      <td>0</td>\n",
              "      <td>3</td>\n",
              "      <td>0</td>\n",
              "      <td>3</td>\n",
              "      <td>1</td>\n",
              "      <td>1</td>\n",
              "      <td>2</td>\n",
              "      <td>0</td>\n",
              "      <td>1</td>\n",
              "    </tr>\n",
              "    <tr>\n",
              "      <th>...</th>\n",
              "      <td>...</td>\n",
              "      <td>...</td>\n",
              "      <td>...</td>\n",
              "      <td>...</td>\n",
              "      <td>...</td>\n",
              "      <td>...</td>\n",
              "      <td>...</td>\n",
              "      <td>...</td>\n",
              "      <td>...</td>\n",
              "      <td>...</td>\n",
              "    </tr>\n",
              "    <tr>\n",
              "      <th>886</th>\n",
              "      <td>887</td>\n",
              "      <td>0</td>\n",
              "      <td>2</td>\n",
              "      <td>0</td>\n",
              "      <td>1</td>\n",
              "      <td>1</td>\n",
              "      <td>1</td>\n",
              "      <td>4</td>\n",
              "      <td>0</td>\n",
              "      <td>1</td>\n",
              "    </tr>\n",
              "    <tr>\n",
              "      <th>887</th>\n",
              "      <td>888</td>\n",
              "      <td>1</td>\n",
              "      <td>1</td>\n",
              "      <td>1</td>\n",
              "      <td>0</td>\n",
              "      <td>2</td>\n",
              "      <td>1</td>\n",
              "      <td>1</td>\n",
              "      <td>0</td>\n",
              "      <td>1</td>\n",
              "    </tr>\n",
              "    <tr>\n",
              "      <th>888</th>\n",
              "      <td>889</td>\n",
              "      <td>0</td>\n",
              "      <td>3</td>\n",
              "      <td>1</td>\n",
              "      <td>2</td>\n",
              "      <td>2</td>\n",
              "      <td>1</td>\n",
              "      <td>1</td>\n",
              "      <td>3</td>\n",
              "      <td>0</td>\n",
              "    </tr>\n",
              "    <tr>\n",
              "      <th>889</th>\n",
              "      <td>890</td>\n",
              "      <td>1</td>\n",
              "      <td>1</td>\n",
              "      <td>0</td>\n",
              "      <td>1</td>\n",
              "      <td>2</td>\n",
              "      <td>2</td>\n",
              "      <td>2</td>\n",
              "      <td>0</td>\n",
              "      <td>1</td>\n",
              "    </tr>\n",
              "    <tr>\n",
              "      <th>890</th>\n",
              "      <td>891</td>\n",
              "      <td>0</td>\n",
              "      <td>3</td>\n",
              "      <td>0</td>\n",
              "      <td>2</td>\n",
              "      <td>0</td>\n",
              "      <td>0</td>\n",
              "      <td>2</td>\n",
              "      <td>0</td>\n",
              "      <td>1</td>\n",
              "    </tr>\n",
              "  </tbody>\n",
              "</table>\n",
              "<p>891 rows × 10 columns</p>\n",
              "</div>\n",
              "    <div class=\"colab-df-buttons\">\n",
              "\n",
              "  <div class=\"colab-df-container\">\n",
              "    <button class=\"colab-df-convert\" onclick=\"convertToInteractive('df-687a736c-11a6-4920-96b2-ce0122a1399a')\"\n",
              "            title=\"Convert this dataframe to an interactive table.\"\n",
              "            style=\"display:none;\">\n",
              "\n",
              "  <svg xmlns=\"http://www.w3.org/2000/svg\" height=\"24px\" viewBox=\"0 -960 960 960\">\n",
              "    <path d=\"M120-120v-720h720v720H120Zm60-500h600v-160H180v160Zm220 220h160v-160H400v160Zm0 220h160v-160H400v160ZM180-400h160v-160H180v160Zm440 0h160v-160H620v160ZM180-180h160v-160H180v160Zm440 0h160v-160H620v160Z\"/>\n",
              "  </svg>\n",
              "    </button>\n",
              "\n",
              "  <style>\n",
              "    .colab-df-container {\n",
              "      display:flex;\n",
              "      gap: 12px;\n",
              "    }\n",
              "\n",
              "    .colab-df-convert {\n",
              "      background-color: #E8F0FE;\n",
              "      border: none;\n",
              "      border-radius: 50%;\n",
              "      cursor: pointer;\n",
              "      display: none;\n",
              "      fill: #1967D2;\n",
              "      height: 32px;\n",
              "      padding: 0 0 0 0;\n",
              "      width: 32px;\n",
              "    }\n",
              "\n",
              "    .colab-df-convert:hover {\n",
              "      background-color: #E2EBFA;\n",
              "      box-shadow: 0px 1px 2px rgba(60, 64, 67, 0.3), 0px 1px 3px 1px rgba(60, 64, 67, 0.15);\n",
              "      fill: #174EA6;\n",
              "    }\n",
              "\n",
              "    .colab-df-buttons div {\n",
              "      margin-bottom: 4px;\n",
              "    }\n",
              "\n",
              "    [theme=dark] .colab-df-convert {\n",
              "      background-color: #3B4455;\n",
              "      fill: #D2E3FC;\n",
              "    }\n",
              "\n",
              "    [theme=dark] .colab-df-convert:hover {\n",
              "      background-color: #434B5C;\n",
              "      box-shadow: 0px 1px 3px 1px rgba(0, 0, 0, 0.15);\n",
              "      filter: drop-shadow(0px 1px 2px rgba(0, 0, 0, 0.3));\n",
              "      fill: #FFFFFF;\n",
              "    }\n",
              "  </style>\n",
              "\n",
              "    <script>\n",
              "      const buttonEl =\n",
              "        document.querySelector('#df-687a736c-11a6-4920-96b2-ce0122a1399a button.colab-df-convert');\n",
              "      buttonEl.style.display =\n",
              "        google.colab.kernel.accessAllowed ? 'block' : 'none';\n",
              "\n",
              "      async function convertToInteractive(key) {\n",
              "        const element = document.querySelector('#df-687a736c-11a6-4920-96b2-ce0122a1399a');\n",
              "        const dataTable =\n",
              "          await google.colab.kernel.invokeFunction('convertToInteractive',\n",
              "                                                    [key], {});\n",
              "        if (!dataTable) return;\n",
              "\n",
              "        const docLinkHtml = 'Like what you see? Visit the ' +\n",
              "          '<a target=\"_blank\" href=https://colab.research.google.com/notebooks/data_table.ipynb>data table notebook</a>'\n",
              "          + ' to learn more about interactive tables.';\n",
              "        element.innerHTML = '';\n",
              "        dataTable['output_type'] = 'display_data';\n",
              "        await google.colab.output.renderOutput(dataTable, element);\n",
              "        const docLink = document.createElement('div');\n",
              "        docLink.innerHTML = docLinkHtml;\n",
              "        element.appendChild(docLink);\n",
              "      }\n",
              "    </script>\n",
              "  </div>\n",
              "\n",
              "\n",
              "<div id=\"df-88349aed-0f67-4b5a-a6c7-5d0b35a7cd4d\">\n",
              "  <button class=\"colab-df-quickchart\" onclick=\"quickchart('df-88349aed-0f67-4b5a-a6c7-5d0b35a7cd4d')\"\n",
              "            title=\"Suggest charts\"\n",
              "            style=\"display:none;\">\n",
              "\n",
              "<svg xmlns=\"http://www.w3.org/2000/svg\" height=\"24px\"viewBox=\"0 0 24 24\"\n",
              "     width=\"24px\">\n",
              "    <g>\n",
              "        <path d=\"M19 3H5c-1.1 0-2 .9-2 2v14c0 1.1.9 2 2 2h14c1.1 0 2-.9 2-2V5c0-1.1-.9-2-2-2zM9 17H7v-7h2v7zm4 0h-2V7h2v10zm4 0h-2v-4h2v4z\"/>\n",
              "    </g>\n",
              "</svg>\n",
              "  </button>\n",
              "\n",
              "<style>\n",
              "  .colab-df-quickchart {\n",
              "      --bg-color: #E8F0FE;\n",
              "      --fill-color: #1967D2;\n",
              "      --hover-bg-color: #E2EBFA;\n",
              "      --hover-fill-color: #174EA6;\n",
              "      --disabled-fill-color: #AAA;\n",
              "      --disabled-bg-color: #DDD;\n",
              "  }\n",
              "\n",
              "  [theme=dark] .colab-df-quickchart {\n",
              "      --bg-color: #3B4455;\n",
              "      --fill-color: #D2E3FC;\n",
              "      --hover-bg-color: #434B5C;\n",
              "      --hover-fill-color: #FFFFFF;\n",
              "      --disabled-bg-color: #3B4455;\n",
              "      --disabled-fill-color: #666;\n",
              "  }\n",
              "\n",
              "  .colab-df-quickchart {\n",
              "    background-color: var(--bg-color);\n",
              "    border: none;\n",
              "    border-radius: 50%;\n",
              "    cursor: pointer;\n",
              "    display: none;\n",
              "    fill: var(--fill-color);\n",
              "    height: 32px;\n",
              "    padding: 0;\n",
              "    width: 32px;\n",
              "  }\n",
              "\n",
              "  .colab-df-quickchart:hover {\n",
              "    background-color: var(--hover-bg-color);\n",
              "    box-shadow: 0 1px 2px rgba(60, 64, 67, 0.3), 0 1px 3px 1px rgba(60, 64, 67, 0.15);\n",
              "    fill: var(--button-hover-fill-color);\n",
              "  }\n",
              "\n",
              "  .colab-df-quickchart-complete:disabled,\n",
              "  .colab-df-quickchart-complete:disabled:hover {\n",
              "    background-color: var(--disabled-bg-color);\n",
              "    fill: var(--disabled-fill-color);\n",
              "    box-shadow: none;\n",
              "  }\n",
              "\n",
              "  .colab-df-spinner {\n",
              "    border: 2px solid var(--fill-color);\n",
              "    border-color: transparent;\n",
              "    border-bottom-color: var(--fill-color);\n",
              "    animation:\n",
              "      spin 1s steps(1) infinite;\n",
              "  }\n",
              "\n",
              "  @keyframes spin {\n",
              "    0% {\n",
              "      border-color: transparent;\n",
              "      border-bottom-color: var(--fill-color);\n",
              "      border-left-color: var(--fill-color);\n",
              "    }\n",
              "    20% {\n",
              "      border-color: transparent;\n",
              "      border-left-color: var(--fill-color);\n",
              "      border-top-color: var(--fill-color);\n",
              "    }\n",
              "    30% {\n",
              "      border-color: transparent;\n",
              "      border-left-color: var(--fill-color);\n",
              "      border-top-color: var(--fill-color);\n",
              "      border-right-color: var(--fill-color);\n",
              "    }\n",
              "    40% {\n",
              "      border-color: transparent;\n",
              "      border-right-color: var(--fill-color);\n",
              "      border-top-color: var(--fill-color);\n",
              "    }\n",
              "    60% {\n",
              "      border-color: transparent;\n",
              "      border-right-color: var(--fill-color);\n",
              "    }\n",
              "    80% {\n",
              "      border-color: transparent;\n",
              "      border-right-color: var(--fill-color);\n",
              "      border-bottom-color: var(--fill-color);\n",
              "    }\n",
              "    90% {\n",
              "      border-color: transparent;\n",
              "      border-bottom-color: var(--fill-color);\n",
              "    }\n",
              "  }\n",
              "</style>\n",
              "\n",
              "  <script>\n",
              "    async function quickchart(key) {\n",
              "      const quickchartButtonEl =\n",
              "        document.querySelector('#' + key + ' button');\n",
              "      quickchartButtonEl.disabled = true;  // To prevent multiple clicks.\n",
              "      quickchartButtonEl.classList.add('colab-df-spinner');\n",
              "      try {\n",
              "        const charts = await google.colab.kernel.invokeFunction(\n",
              "            'suggestCharts', [key], {});\n",
              "      } catch (error) {\n",
              "        console.error('Error during call to suggestCharts:', error);\n",
              "      }\n",
              "      quickchartButtonEl.classList.remove('colab-df-spinner');\n",
              "      quickchartButtonEl.classList.add('colab-df-quickchart-complete');\n",
              "    }\n",
              "    (() => {\n",
              "      let quickchartButtonEl =\n",
              "        document.querySelector('#df-88349aed-0f67-4b5a-a6c7-5d0b35a7cd4d button');\n",
              "      quickchartButtonEl.style.display =\n",
              "        google.colab.kernel.accessAllowed ? 'block' : 'none';\n",
              "    })();\n",
              "  </script>\n",
              "</div>\n",
              "    </div>\n",
              "  </div>\n"
            ]
          },
          "metadata": {},
          "execution_count": 172
        }
      ]
    }
  ]
}